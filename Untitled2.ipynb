{
  "nbformat": 4,
  "nbformat_minor": 0,
  "metadata": {
    "colab": {
      "provenance": [],
      "authorship_tag": "ABX9TyPmxlL4k6IS0V37bcgxOcJH",
      "include_colab_link": true
    },
    "kernelspec": {
      "name": "python3",
      "display_name": "Python 3"
    },
    "language_info": {
      "name": "python"
    }
  },
  "cells": [
    {
      "cell_type": "markdown",
      "metadata": {
        "id": "view-in-github",
        "colab_type": "text"
      },
      "source": [
        "<a href=\"https://colab.research.google.com/github/farhanaz274/AIML_2303A51377/blob/main/Untitled2.ipynb\" target=\"_parent\"><img src=\"https://colab.research.google.com/assets/colab-badge.svg\" alt=\"Open In Colab\"/></a>"
      ]
    },
    {
      "cell_type": "markdown",
      "source": [
        "Lab-02: Implement AI Search\n",
        "\n",
        "Part-01:Implement Breadth First Search Algorithm bfs1.png"
      ],
      "metadata": {
        "id": "ZRRApXCW3R-q"
      }
    },
    {
      "cell_type": "code",
      "source": [
        "import numpy as np"
      ],
      "metadata": {
        "id": "L7DL-74u3aF-"
      },
      "execution_count": 1,
      "outputs": []
    },
    {
      "cell_type": "code",
      "source": [
        "from queue import Queue\n",
        "\n",
        "graph={0: [1,2,3], 1: [0,2], 2 : [0,1,2,3,5],\n",
        "       3: [0,2,4], 4: [3,5,7], 5: [4,6,7],\n",
        "       6: [5,7], 7:[4,5,6], 8:[]}\n",
        "print(\"The adjacency List representing the graph is:\")\n",
        "print(graph)\n",
        "\n"
      ],
      "metadata": {
        "colab": {
          "base_uri": "https://localhost:8080/"
        },
        "id": "vR_Sh1nR3dob",
        "outputId": "32964d74-53f4-4765-f0d7-49a0a2df6916"
      },
      "execution_count": 2,
      "outputs": [
        {
          "output_type": "stream",
          "name": "stdout",
          "text": [
            "The adjacency List representing the graph is:\n",
            "{0: [1, 2, 3], 1: [0, 2], 2: [0, 1, 2, 3, 5], 3: [0, 2, 4], 4: [3, 5, 7], 5: [4, 6, 7], 6: [5, 7], 7: [4, 5, 6], 8: []}\n"
          ]
        }
      ]
    },
    {
      "cell_type": "code",
      "source": [
        "def bfs(graph, source):\n",
        "   Q = Queue()\n",
        "   visited_vertices = set()\n",
        "   Q.put(source)\n",
        "   visited_vertices.update({source})\n",
        "   while not Q.empty():\n",
        "    vertex = Q.get()\n",
        "    print(vertex, end=\"-->\")\n",
        "    for u in graph[vertex]:\n",
        "      if u not in visited_vertices:\n",
        "        Q.put(u)\n",
        "        visited_vertices.update({u})\n",
        "print(\"BFS traversal of graph with source 3 is:\")\n",
        "bfs(graph, 1)"
      ],
      "metadata": {
        "colab": {
          "base_uri": "https://localhost:8080/"
        },
        "id": "a-sLXmMT3hYJ",
        "outputId": "d9fc7c1d-936e-4c6a-b88e-46ad002e2b47"
      },
      "execution_count": 3,
      "outputs": [
        {
          "output_type": "stream",
          "name": "stdout",
          "text": [
            "BFS traversal of graph with source 3 is:\n",
            "1-->0-->2-->3-->5-->4-->6-->7-->"
          ]
        }
      ]
    },
    {
      "cell_type": "markdown",
      "source": [
        "Part-02: Implement Depth First Search Algorithm"
      ],
      "metadata": {
        "id": "AyN6bEO53kdz"
      }
    },
    {
      "cell_type": "code",
      "source": [
        "graph1 = {\n",
        "    'A' : ['C','D','G'],\n",
        "    'C' : ['D','A','F'],\n",
        "    'D' : ['E','A','H','G','C'],\n",
        "    'E' : ['D','H','F'],\n",
        "    'F' : ['E','C'],\n",
        "    'G' : ['H','A','D'],\n",
        "    'H' : ['G','E','D'],\n",
        "}\n"
      ],
      "metadata": {
        "id": "IdJy8U-k3nQd"
      },
      "execution_count": 5,
      "outputs": []
    },
    {
      "cell_type": "code",
      "source": [
        "print(\"The adjacency List reprsenting the graph is:\")\n",
        "print(graph1)\n",
        "\n"
      ],
      "metadata": {
        "colab": {
          "base_uri": "https://localhost:8080/"
        },
        "id": "erIZ03EU4Eiz",
        "outputId": "a07b0856-ba4d-426b-ae4f-d233de89473f"
      },
      "execution_count": 6,
      "outputs": [
        {
          "output_type": "stream",
          "name": "stdout",
          "text": [
            "The adjacency List reprsenting the graph is:\n",
            "{'A': ['C', 'D', 'G'], 'C': ['D', 'A', 'F'], 'D': ['E', 'A', 'H', 'G', 'C'], 'E': ['D', 'H', 'F'], 'F': ['E', 'C'], 'G': ['H', 'A', 'D'], 'H': ['G', 'E', 'D']}\n"
          ]
        }
      ]
    },
    {
      "cell_type": "code",
      "source": [
        "def dfs(graph, node, visited):\n",
        "  if node not in visited:\n",
        "    visited.append(node)\n",
        "    for k in graph[node]:\n",
        "      dfs(graph,k,visited)\n",
        "  return visited\n",
        "visited = dfs(graph1,'A',[])\n",
        "print(visited)\n",
        "\n"
      ],
      "metadata": {
        "colab": {
          "base_uri": "https://localhost:8080/"
        },
        "id": "a9wgI6gl4Hs5",
        "outputId": "28a1bf6b-2cc4-48e0-cc6c-7261adf7c4fb"
      },
      "execution_count": 7,
      "outputs": [
        {
          "output_type": "stream",
          "name": "stdout",
          "text": [
            "['A', 'C', 'D', 'E', 'H', 'G', 'F']\n"
          ]
        }
      ]
    },
    {
      "cell_type": "markdown",
      "source": [
        "Part-03: Implementation of A* Algorithm / OR Graph Search"
      ],
      "metadata": {
        "id": "YxjqyK_a4Pqr"
      }
    },
    {
      "cell_type": "code",
      "source": [],
      "metadata": {
        "id": "D2yy_K074USP"
      },
      "execution_count": null,
      "outputs": []
    }
  ]
}